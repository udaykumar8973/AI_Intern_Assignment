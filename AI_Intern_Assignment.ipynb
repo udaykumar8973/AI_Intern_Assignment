{
  "nbformat": 4,
  "nbformat_minor": 0,
  "metadata": {
    "colab": {
      "provenance": []
    },
    "kernelspec": {
      "name": "python3",
      "display_name": "Python 3"
    },
    "language_info": {
      "name": "python"
    }
  },
  "cells": [
    {
      "cell_type": "code",
      "execution_count": null,
      "metadata": {
        "id": "mgApoe26Qh7G"
      },
      "outputs": [],
      "source": [
        "# Import required libraries\n",
        "import PyPDF2\n",
        "import textract\n",
        "import re\n",
        "import string\n",
        "import pandas as pd\n",
        "import matplotlib.pyplot as plt\n",
        "%matplotlib inline\n",
        "\n",
        "# Open pdf file\n",
        "pdfFileObj = open('/content/resume.pdf','rb')\n",
        "\n",
        "# Read file\n",
        "pdfReader = PyPDF2.PdfFileReader(pdfFileObj)\n",
        "\n",
        "# Get total number of pages\n",
        "num_pages = pdfReader.numPages\n",
        "\n",
        "# Initialize a count for the number of pages\n",
        "count = 0\n",
        "\n",
        "# Initialize a text empty etring variable\n",
        "text = \"\"\n",
        "\n",
        "# Extract text from every page on the file\n",
        "while count < num_pages:\n",
        "    pageObj = pdfReader.getPage(count)\n",
        "    count +=1\n",
        "    text += pageObj.extractText()"
      ]
    },
    {
      "cell_type": "code",
      "source": [
        "# Convert all strings to lowercase\n",
        "text = text.lower()\n",
        "\n",
        "# Remove numbers\n",
        "text = re.sub(r'\\d+','',text)\n",
        "\n",
        "# Remove punctuation\n",
        "text = text.translate(str.maketrans('','',string.punctuation))"
      ],
      "metadata": {
        "id": "H3ERCZ35Qx4x"
      },
      "execution_count": null,
      "outputs": []
    },
    {
      "cell_type": "code",
      "source": [
        "# Create dictionary with industrial and system engineering key terms by area\n",
        "terms = {'Decision Making':['critical_thinking','leadership','team_collaboration','time_management'],      \n",
        "        'Communication':['talk', 'discuss', 'explain', 'describe'],\n",
        "        'Delegation':['leadership', 'goal', 'respect', 'member'],\n",
        "        'Teamwork':['support', 'planning', 'vision', 'trust'],\n",
        "        'Adaptability':['motivation', 'quality', 'talent', 'spirit', 'wisdom'],\n",
        "        'Problem-Solving':['analysis', 'research', 'creativity']}\n",
        "        'Trustworthiness':['mature', 'responsible']}"
      ],
      "metadata": {
        "id": "Eor5tZS3Q3eF"
      },
      "execution_count": null,
      "outputs": []
    },
    {
      "cell_type": "code",
      "source": [
        "# Initializie score counters for each area\n",
        "Decision Making = 0\n",
        "Communication = 0\n",
        "Delegation = 0\n",
        "Teamwork = 0\n",
        "Adaptability = 0\n",
        "Problem-Solving = 0\n",
        "Trustworthiness = 0\n",
        "\n",
        "# Create an empty list where the scores will be stored\n",
        "scores = []\n",
        "\n",
        "# Obtain the scores for each area\n",
        "for area in terms.keys():\n",
        "        \n",
        "    if area == 'Decision Making':\n",
        "        for word in terms[area]:\n",
        "            if word in text:\n",
        "                Decision Making +=1\n",
        "        scores.append(Decision Making)\n",
        "        \n",
        "    elif area == 'Communication':\n",
        "        for word in terms[area]:\n",
        "            if word in text:\n",
        "                Communication +=1\n",
        "        scores.append(Communication)\n",
        "        \n",
        "    elif area == 'Delegation':\n",
        "        for word in terms[area]:\n",
        "            if word in text:\n",
        "                Delegation +=1\n",
        "        scores.append(Delegation)\n",
        "        \n",
        "    elif area == 'Teamwork':\n",
        "        for word in terms[area]:\n",
        "            if word in text:\n",
        "                Teamwork +=1\n",
        "        scores.append(Teamwork)\n",
        "        \n",
        "    elif area == 'Adaptability':\n",
        "        for word in terms[area]:\n",
        "            if word in text:\n",
        "                Adaptability +=1\n",
        "        scores.append(Adaptability)\n",
        "\n",
        "      elif area == 'Problem-Solving':\n",
        "        for word in terms[area]:\n",
        "            if word in text:\n",
        "                Problem-Solving +=1\n",
        "        scores.append(Problem-Solving)\n",
        "        \n",
        "    else:\n",
        "        for word in terms[area]:\n",
        "            if word in text:\n",
        "               Trustworthiness +=1\n",
        "        scores.append(Trustworthiness)"
      ],
      "metadata": {
        "id": "Af3FIrsVVUQ5"
      },
      "execution_count": null,
      "outputs": []
    },
    {
      "cell_type": "code",
      "source": [
        "# Create a data frame with the scores summary\n",
        "summary = pd.DataFrame(scores,index=terms.keys(),columns=['score']).sort_values(by='score',ascending=False)\n",
        "summary"
      ],
      "metadata": {
        "id": "Hbta4UO-Wi5x"
      },
      "execution_count": null,
      "outputs": []
    }
  ]
}